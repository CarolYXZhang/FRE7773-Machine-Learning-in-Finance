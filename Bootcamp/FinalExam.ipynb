{
 "cells": [
  {
   "cell_type": "markdown",
   "metadata": {},
   "source": [
    "# Variable Name Rules"
   ]
  },
  {
   "cell_type": "code",
   "execution_count": 1,
   "metadata": {},
   "outputs": [
    {
     "name": "stdout",
     "output_type": "stream",
     "text": [
      "\n",
      "Here is a list of the Python keywords.  Enter any keyword to get more help.\n",
      "\n",
      "False               def                 if                  raise\n",
      "None                del                 import              return\n",
      "True                elif                in                  try\n",
      "and                 else                is                  while\n",
      "as                  except              lambda              with\n",
      "assert              finally             nonlocal            yield\n",
      "break               for                 not                 \n",
      "class               from                or                  \n",
      "continue            global              pass                \n",
      "\n"
     ]
    }
   ],
   "source": [
    "# Names must not contain any special keywords\n",
    "help(\"keywords\")"
   ]
  },
  {
   "cell_type": "code",
   "execution_count": 2,
   "metadata": {},
   "outputs": [
    {
     "name": "stdout",
     "output_type": "stream",
     "text": [
      "5\n",
      "7\n"
     ]
    }
   ],
   "source": [
    "# The names are case sensitive\n",
    "xyz =5\n",
    "XYZ = 7\n",
    "print(xyz)\n",
    "print(XYZ)"
   ]
  },
  {
   "cell_type": "markdown",
   "metadata": {},
   "source": [
    "# Operators"
   ]
  },
  {
   "cell_type": "code",
   "execution_count": 3,
   "metadata": {},
   "outputs": [
    {
     "name": "stdout",
     "output_type": "stream",
     "text": [
      "Division:  0.3333333333333333\n",
      "Reminder 2\n",
      "Exponent 8\n",
      "Floor division: 0\n"
     ]
    }
   ],
   "source": [
    "print(\"Division: \", 1/3)\n",
    "print(\"Reminder\", 2%3)\n",
    "print(\"Exponent\", 2**3)\n",
    "print(\"Floor division:\" , 2//3)"
   ]
  },
  {
   "cell_type": "markdown",
   "metadata": {},
   "source": [
    "# Data Type Quiz 1"
   ]
  },
  {
   "cell_type": "code",
   "execution_count": 4,
   "metadata": {},
   "outputs": [
    {
     "name": "stdout",
     "output_type": "stream",
     "text": [
      "5\n",
      "0\n",
      "4.2000000000000004e-15\n",
      "5e-324\n",
      "6.333333333333333\n",
      "6\n",
      "Hello, There\n",
      "4.0\n"
     ]
    }
   ],
   "source": [
    "print(4 + True)\n",
    "print(True * False)\n",
    "print(3e-15 + 4e-16 + 8e-16)\n",
    "print(2e-325 + 5e-324)\n",
    "print(4 + 1/3 + 2)\n",
    "print(4 + 1//3 + 2)\n",
    "print(\"Hello, \" + \"There\")\n",
    "print(2**3/2)"
   ]
  },
  {
   "cell_type": "markdown",
   "metadata": {},
   "source": [
    "# Conditionals"
   ]
  },
  {
   "cell_type": "markdown",
   "metadata": {},
   "source": [
    "## If Loop"
   ]
  },
  {
   "cell_type": "code",
   "execution_count": 5,
   "metadata": {},
   "outputs": [
    {
     "name": "stdout",
     "output_type": "stream",
     "text": [
      "Hi Alice\n",
      "Done\n"
     ]
    }
   ],
   "source": [
    "name = 'Alice'\n",
    "if name == 'Alice':\n",
    "#     Always remember add : at the end of if sentense\n",
    "    print('Hi Alice')\n",
    "print('Done')"
   ]
  },
  {
   "cell_type": "code",
   "execution_count": 6,
   "metadata": {},
   "outputs": [
    {
     "name": "stdout",
     "output_type": "stream",
     "text": [
      "Smaller\n"
     ]
    }
   ],
   "source": [
    "x = 5\n",
    "if x>5:\n",
    "    print('Larger')\n",
    "else:\n",
    "        print('Smaller')"
   ]
  },
  {
   "cell_type": "code",
   "execution_count": 7,
   "metadata": {},
   "outputs": [
    {
     "name": "stdout",
     "output_type": "stream",
     "text": [
      "Smaller\n"
     ]
    }
   ],
   "source": [
    "x = 5\n",
    "if x!=5:\n",
    "    print('Not Equal')\n",
    "else:\n",
    "    if x>5:\n",
    "        print('Larger')\n",
    "    else:\n",
    "        print('Smaller')"
   ]
  },
  {
   "cell_type": "code",
   "execution_count": 8,
   "metadata": {},
   "outputs": [
    {
     "name": "stdout",
     "output_type": "stream",
     "text": [
      "Equal\n"
     ]
    }
   ],
   "source": [
    "# Nested Conditionals 循环嵌套\n",
    "x = 5\n",
    "if x>5:\n",
    "    print('Larger')\n",
    "elif x<5:\n",
    "#     ELIF not elseif\n",
    "    print('Smaller')\n",
    "else:\n",
    "    print('Equal')"
   ]
  },
  {
   "cell_type": "code",
   "execution_count": 9,
   "metadata": {},
   "outputs": [
    {
     "name": "stdout",
     "output_type": "stream",
     "text": [
      "Smaller\n"
     ]
    }
   ],
   "source": [
    "x = 5\n",
    "if x!=5:\n",
    "    print('Not Equal')\n",
    "else:\n",
    "    if x>5:\n",
    "        print('Larger')\n",
    "    else:\n",
    "        print('Smaller')"
   ]
  },
  {
   "cell_type": "markdown",
   "metadata": {},
   "source": [
    "## For Loop"
   ]
  },
  {
   "cell_type": "code",
   "execution_count": 10,
   "metadata": {},
   "outputs": [
    {
     "name": "stdout",
     "output_type": "stream",
     "text": [
      "15\n"
     ]
    }
   ],
   "source": [
    "# for iterator in sequence:\n",
    "#     statements\n",
    "sum = 0\n",
    "for i in range(1,6):\n",
    "    sum += i\n",
    "print(sum)"
   ]
  },
  {
   "cell_type": "markdown",
   "metadata": {},
   "source": [
    "## While Loop"
   ]
  },
  {
   "cell_type": "code",
   "execution_count": 11,
   "metadata": {},
   "outputs": [
    {
     "name": "stdout",
     "output_type": "stream",
     "text": [
      "15\n"
     ]
    }
   ],
   "source": [
    "# while condition\n",
    "#     statements\n",
    "i = 1\n",
    "sum = 0\n",
    "while i<=5:\n",
    "    sum += i\n",
    "    i += 1\n",
    "print(sum)"
   ]
  },
  {
   "cell_type": "markdown",
   "metadata": {},
   "source": [
    "# Loop Quiz 3"
   ]
  },
  {
   "cell_type": "code",
   "execution_count": 12,
   "metadata": {},
   "outputs": [
    {
     "name": "stdout",
     "output_type": "stream",
     "text": [
      "1\n",
      "2\n",
      "3\n",
      "4\n",
      "5\n",
      "6\n",
      "7\n",
      "8\n",
      "9\n"
     ]
    }
   ],
   "source": [
    "for i in range(1,10):\n",
    "    print(i)"
   ]
  },
  {
   "cell_type": "code",
   "execution_count": 13,
   "metadata": {},
   "outputs": [
    {
     "name": "stdout",
     "output_type": "stream",
     "text": [
      "1\n",
      "2\n",
      "3\n"
     ]
    }
   ],
   "source": [
    "i = 1\n",
    "while (i+1<5):\n",
    "    print(i)\n",
    "    i += 1\n",
    "# Warning: always remember add: i += 1"
   ]
  },
  {
   "cell_type": "markdown",
   "metadata": {},
   "source": [
    "# Interview Practive Questions"
   ]
  },
  {
   "cell_type": "code",
   "execution_count": 14,
   "metadata": {},
   "outputs": [
    {
     "name": "stdout",
     "output_type": "stream",
     "text": [
      "\n",
      "\n",
      "1\n",
      "\n",
      "12\n",
      "\n",
      "123\n",
      "\n",
      "1234\n",
      "\n",
      "12345\n",
      "\n",
      "123456\n",
      "\n",
      "1234567\n",
      "\n"
     ]
    }
   ],
   "source": [
    "for i in range(1,9):\n",
    "    for j in range(1,i):\n",
    "        print(j, end=\"\")\n",
    "#         use end = \"\" to print in the same line\n",
    "    print('\\n')"
   ]
  },
  {
   "cell_type": "code",
   "execution_count": 15,
   "metadata": {},
   "outputs": [
    {
     "name": "stdout",
     "output_type": "stream",
     "text": [
      "1\n",
      "\n",
      "1*\n",
      "\n",
      "1*3\n",
      "\n",
      "1*3*\n",
      "\n",
      "1*3*5\n",
      "\n",
      "1*3*5*\n",
      "\n",
      "1*3*5*7\n",
      "\n",
      "1*3*5*7*\n",
      "\n"
     ]
    }
   ],
   "source": [
    "i = 1\n",
    "while i <= 8:\n",
    "    j = 0\n",
    "    while j < i:\n",
    "        if j%2 == 0:\n",
    "            print(j+1, end=\"\")\n",
    "        else:\n",
    "            print('*', end=\"\")\n",
    "        j=j+1\n",
    "    i=i+1\n",
    "    print('\\n')"
   ]
  },
  {
   "cell_type": "markdown",
   "metadata": {},
   "source": [
    "# Lists"
   ]
  },
  {
   "cell_type": "markdown",
   "metadata": {},
   "source": [
    "Properties\n",
    "- don't have to be homogeneous;\n",
    "- start with index 0 and go on to n;\n",
    "- can be nested within each other -- Multi-Dimensional List"
   ]
  },
  {
   "cell_type": "markdown",
   "metadata": {},
   "source": [
    "Methods\n",
    "- list.append(value): Add an element to end of list\n",
    "- list.extend([value1, value2, ...]): Add mutliple elments\n",
    "- list.inset(index, value): insert an item BEFORE a specific index\n",
    "- list.remove(value)\n",
    "- list.pop(): remove it from end of list\n",
    "- list.pop(index)\n",
    "- list1 + list2: concatenate 2 lists\n",
    "- list[0:3]: list traversal\n",
    "- list[::-1]: return the reverse of the list, but the origin list NOT changes\n",
    "- list[::2]: setp through 2 at a time\n",
    "- len(List): check the length of a list"
   ]
  },
  {
   "cell_type": "code",
   "execution_count": 16,
   "metadata": {},
   "outputs": [
    {
     "name": "stdout",
     "output_type": "stream",
     "text": [
      "Initial blank list:  []\n",
      "List with the use of string:  ['Carol']\n",
      "add an element:  ['Carol', 'Zhang']\n",
      "add multiple elements:  ['Carol', 'Zhang', 'yi', 'xin']\n",
      "insert items:  ['Carol', '-', 'Zhang', 'yi', '!', 'xin']\n",
      "remove it from end of the list:  ['Carol', '-', 'Zhang', 'yi', '!']\n",
      "remove a specific element ['-', 'Zhang', 'yi', '!']\n"
     ]
    }
   ],
   "source": [
    "List = []\n",
    "print(\"Initial blank list: \", List)\n",
    "List = ['Carol']\n",
    "print(\"List with the use of string: \", List)\n",
    "List.append(\"Zhang\")\n",
    "print(\"add an element: \", List)\n",
    "List.extend([\"yi\", \"xin\"])\n",
    "print(\"add multiple elements: \", List)\n",
    "List.insert(1, \"-\")\n",
    "List.insert(-1, \"!\")\n",
    "print(\"insert items: \", List)\n",
    "List.pop()\n",
    "print(\"remove it from end of the list: \", List)\n",
    "List.pop(0)\n",
    "print(\"remove a specific element\", List)"
   ]
  },
  {
   "cell_type": "markdown",
   "metadata": {},
   "source": [
    "## Test memebership of a list -- \"in\" keyword"
   ]
  },
  {
   "cell_type": "code",
   "execution_count": 17,
   "metadata": {},
   "outputs": [
    {
     "name": "stdout",
     "output_type": "stream",
     "text": [
      "Apply!\n"
     ]
    }
   ],
   "source": [
    "# in keyword\n",
    "# if \"Zhang\" in List is also OK\n",
    "if 'Zhang' in List:\n",
    "    print(\"Apply!\")\n",
    "else:\n",
    "    print(\"OMG did they go list!\")"
   ]
  },
  {
   "cell_type": "markdown",
   "metadata": {},
   "source": [
    "# List Quiz"
   ]
  },
  {
   "cell_type": "code",
   "execution_count": 18,
   "metadata": {},
   "outputs": [
    {
     "name": "stdout",
     "output_type": "stream",
     "text": [
      "The 3 th bulge_banks =  Credit Suisse\n"
     ]
    }
   ],
   "source": [
    "bulge_banks = [\"Goldman Sachs\", \"JPMorgan Chase\", \"Morgan Stanley\", \"Credit Suisse\", \"UBS\"]\n",
    "import random\n",
    "# random.randint(a, b)\n",
    "# Return a random integer N such that a <= N <= b. Alias for randrange(a, b+1)\n",
    "i= random.randint(0, len(bulge_banks) - 1)\n",
    "print(\"The\", i, \"th bulge_banks = \", bulge_banks[i])"
   ]
  },
  {
   "cell_type": "code",
   "execution_count": 19,
   "metadata": {},
   "outputs": [
    {
     "name": "stdout",
     "output_type": "stream",
     "text": [
      "[['Annie', 'Mike', 'Alex', 'Steve', 'Rachel', 'Ron'], ['Smith', 'Robinson', 'Johnson', 'Weber', 'Dawes']]\n",
      "[['Smith', 'Robinson', 'Johnson', 'Weber', 'Dawes']]\n",
      "['Dawes', 'Weber', 'Johnson', 'Robinson', 'Smith']\n"
     ]
    }
   ],
   "source": [
    "people = [['Annie', 'Mike', 'Alex', 'Steve', 'Rachel'], ['Smith', 'Robinson', 'Johnson', 'Weber', 'Dawes']]\n",
    "people[0].append('Ron')\n",
    "print(people)\n",
    "people.pop(0)\n",
    "print(people)\n",
    "# people[2].append('Harry')\n",
    "people = people[0][::-1]\n",
    "print(people)"
   ]
  },
  {
   "cell_type": "code",
   "execution_count": 20,
   "metadata": {},
   "outputs": [
    {
     "name": "stdout",
     "output_type": "stream",
     "text": [
      "z\n"
     ]
    }
   ],
   "source": [
    "x = [10, [3.141, 20, [30, 'baz', 2.718]], 'foo']\n",
    "print(x[1][2][1][2])"
   ]
  },
  {
   "cell_type": "markdown",
   "metadata": {},
   "source": [
    "# Tuples"
   ]
  },
  {
   "cell_type": "markdown",
   "metadata": {},
   "source": [
    "- A tuple is an IMMUTABLE list\n",
    "- CAN slice a tuple, reassign it whole, delet it whole\n",
    "- CANNOT delet or reassign a few elements or a slice"
   ]
  },
  {
   "cell_type": "code",
   "execution_count": 21,
   "metadata": {},
   "outputs": [
    {
     "name": "stdout",
     "output_type": "stream",
     "text": [
      "an empty tuple is  ()\n",
      "a tuple is  ('python', 'class')\n",
      "a tuple is  ('python', 'class')\n",
      "('python', 'python', 'python')\n",
      "Nested tuples are:  ((0, 1, 2, 3), ('python', 'class'))\n",
      "reassign tuple1:  (2, 4, 5, 6)\n"
     ]
    }
   ],
   "source": [
    "# creat an empty tuple\n",
    "tup = ()\n",
    "print(\"an empty tuple is \", tup)\n",
    "# creat non empty tuple\n",
    "tup = \"python\", \"class\"\n",
    "print(\"a tuple is \", tup)\n",
    "tup = (\"python\", \"class\")\n",
    "print(\"a tuple is \", tup)\n",
    "# creat a tuple with repetition\n",
    "tup3 = (\"python\",) *3\n",
    "print(tup3)\n",
    "# creat nested tuples\n",
    "tup1 = (0, 1, 2, 3)\n",
    "tup2 = (\"python\", \"class\")\n",
    "tup3 = (tup1, tup2)\n",
    "print(\"Nested tuples are: \", tup3)\n",
    "tup1 = (2, 4, 5, 6)\n",
    "print(\"reassign tuple1: \", tup1)"
   ]
  },
  {
   "cell_type": "code",
   "execution_count": 22,
   "metadata": {},
   "outputs": [
    {
     "name": "stdout",
     "output_type": "stream",
     "text": [
      "(0, 1, 2)\n",
      "('p', 'y', 't', 'h', 'o', 'n')\n"
     ]
    }
   ],
   "source": [
    "# convert a list/string into a tuple\n",
    "list1 = [0, 1, 2]\n",
    "print(tuple(list1))\n",
    "str1 = \"python\"\n",
    "print(tuple(str1))"
   ]
  },
  {
   "cell_type": "markdown",
   "metadata": {},
   "source": [
    "# Dictionaries"
   ]
  },
  {
   "cell_type": "markdown",
   "metadata": {},
   "source": [
    "In some circumtances, we want to find pieces of data (value) based on OTHER TYPES OF INPUT (key), such as string."
   ]
  },
  {
   "cell_type": "markdown",
   "metadata": {},
   "source": [
    "Properties\n",
    "- Data is stored in key:value pairs\n",
    "- Key & Value are seperated by \":\", values are seperated by \",\"\n",
    "- Keys are case sensitive\n",
    "- Key & Value need not to be of the same data types\n",
    "- can be nested"
   ]
  },
  {
   "cell_type": "code",
   "execution_count": 23,
   "metadata": {},
   "outputs": [
    {
     "name": "stdout",
     "output_type": "stream",
     "text": [
      "an empty dictionary is:  {}\n",
      "a dictionary is:  {1: 'Hello', 2: 'There!', 3: 'General', 4: 'Kenobi'}\n",
      "a nested dictionary is:  {'Name:': 'Numbers', 1: [1, 2, 3, 4]}\n"
     ]
    }
   ],
   "source": [
    "# creat an empty dictionary\n",
    "dic = {}\n",
    "print(\"an empty dictionary is: \", dic)\n",
    "# crear a simple dictionary\n",
    "dic = {1:'Hello', 2: 'There!', 3: 'General', 4:'Kenobi'}\n",
    "print(\"a dictionary is: \", dic)\n",
    "# crear a nested dictionary\n",
    "dic = {'Name:': 'Numbers', 1:[1, 2, 3, 4]}\n",
    "print(\"a nested dictionary is: \", dic)"
   ]
  },
  {
   "cell_type": "code",
   "execution_count": 24,
   "metadata": {},
   "outputs": [
    {
     "name": "stdout",
     "output_type": "stream",
     "text": [
      "{0: 'Simple', 'Values': (3, 4, 5), 1: {'Nested': {'1': 'Life', '2': 'Geeks'}}}\n"
     ]
    }
   ],
   "source": [
    "# add elements\n",
    "dic = {}\n",
    "dic[0] = 'Simple'\n",
    "dic['Values'] = 3, 4, 5\n",
    "dic[1] = {'Nested' : {'1': 'Life', '2': 'Geeks'}}\n",
    "print(dic)"
   ]
  },
  {
   "cell_type": "code",
   "execution_count": 25,
   "metadata": {},
   "outputs": [
    {
     "name": "stdout",
     "output_type": "stream",
     "text": [
      "Simple\n",
      "(3, 4, 5)\n"
     ]
    }
   ],
   "source": [
    "# access elements using key\n",
    "print(dic[0])\n",
    "# access elements get() method\n",
    "# Waring: get() not []\n",
    "print(dic.get('Values'))"
   ]
  },
  {
   "cell_type": "code",
   "execution_count": 26,
   "metadata": {},
   "outputs": [
    {
     "name": "stdout",
     "output_type": "stream",
     "text": [
      "{0: 'Simple', 'Values': (3, 4, 5), 1: {'Nested': {'1': 'Life', '2': 'Geeks'}}}\n",
      "{'Values': (3, 4, 5), 1: {'Nested': {'1': 'Life', '2': 'Geeks'}}}\n",
      "{'Values': (3, 4, 5), 1: {'Nested': {'1': 'Life'}}}\n",
      "{1: {'Nested': {'1': 'Life'}}}\n",
      "{}\n",
      "{}\n"
     ]
    }
   ],
   "source": [
    "# remove elements\n",
    "print(dic)\n",
    "# delete a specific key\n",
    "del dic[0]\n",
    "print(dic)\n",
    "# delete a key from nested dictionary\n",
    "del dic[1]['Nested']['2'] # delet 2: Geeks\n",
    "print(dic)\n",
    "# use pop() to delete specific key\n",
    "dic.pop('Values')\n",
    "print(dic)\n",
    "# use popitem() to delete last key\n",
    "dic.popitem()\n",
    "print(dic)\n",
    "# delete entire dictionary\n",
    "dic.clear()\n",
    "print(dic)"
   ]
  },
  {
   "cell_type": "markdown",
   "metadata": {},
   "source": [
    "# Dictionary Quiz"
   ]
  },
  {
   "cell_type": "code",
   "execution_count": 27,
   "metadata": {},
   "outputs": [],
   "source": [
    "d = dict([\n",
    "    ('foo', 100),\n",
    "    ('bar', 200),\n",
    "    ('baz', 300)\n",
    "])\n",
    "# print(d['bar':'baz']) will rasies an exception: TypeError: unhashable type: 'slice'"
   ]
  },
  {
   "cell_type": "markdown",
   "metadata": {},
   "source": [
    "# Interview Practice Questions"
   ]
  }
 ],
 "metadata": {
  "kernelspec": {
   "display_name": "Python 3",
   "language": "python",
   "name": "python3"
  },
  "language_info": {
   "codemirror_mode": {
    "name": "ipython",
    "version": 3
   },
   "file_extension": ".py",
   "mimetype": "text/x-python",
   "name": "python",
   "nbconvert_exporter": "python",
   "pygments_lexer": "ipython3",
   "version": "3.6.4"
  }
 },
 "nbformat": 4,
 "nbformat_minor": 2
}
