{
 "cells": [
  {
   "cell_type": "markdown",
   "metadata": {},
   "source": [
    "# 1 Design a trading strategy"
   ]
  },
  {
   "cell_type": "markdown",
   "metadata": {},
   "source": [
    "a. Choose a tradeable instrument to express your view:\n",
    "A tradeable instrument I choose is the Foreign Exchange: GBPUSD 30 minute data (Jan 2014 - Dec 2018)."
   ]
  },
  {
   "cell_type": "markdown",
   "metadata": {},
   "source": [
    "b. Choose explanatory variables (feature): \n",
    "1. Relative Strength Index RSI: a popular momentum oscillator\n",
    "2. Stochastic Oscillator SO: another popular momentum oscillator\n",
    "3. William %R: a type of momentum indicator that moves between 0 and -100 and measures overbought and oversold levels\n",
    "4. Moving Average Convergence Divergence\n",
    "5. Price Rate of Change\n",
    "6. On Balance Volume"
   ]
  },
  {
   "cell_type": "markdown",
   "metadata": {},
   "source": [
    "c. Define strategy parameters:\n",
    "1. Calibration period: monthly. Becuase foreign exchange rate is easily affected by the political events happening around the world.\n",
    "2. Rebalancing frequency: Buy Impulse Signal is when the 30 step ahead prediction changes from -1 to +1 and Sell Impulse Signal is when 30 step ahead price prediction changes from +1 to -1."
   ]
  },
  {
   "cell_type": "markdown",
   "metadata": {},
   "source": [
    "d. Data/Feature engineering:\n",
    "1. Target(Output) is the label that we want to predict. We calculate six targets to know the market direction, 1 step ahead, 3 step ahead, 5 step ahead, 10 step ahead and 14 step ahead and 30 step ahead. It equals to +1 if the FX GBPUSD rate increases otherwise -1.\n",
    "2. We can use the TA-LIB python library which has all the six features predefined as functions. "
   ]
  },
  {
   "cell_type": "markdown",
   "metadata": {},
   "source": [
    "e. Choose a model:\n",
    "1. Random Forest: A random forest is a meta estimator that fits a number of decision tree classifiers on various sub-samples of the dataset and uses averaging to improve the predictive accuracy and control over-fitting. \n",
    "2. A random forest classifier aimed at determining whether a currency pair will be higher or lower after some given amount of days.\n",
    "3. Parameters: (1) n_estimators: The number of trees in the forest. (2) criterion: The function to measure the quality of a split. Supported criteria are “gini” for the Gini impurity and “entropy” for the information gain. (3) max_depth: The maximum depth of the tree. (4) min_samples_split: The minimum number of samples required to split an internal node. etc."
   ]
  },
  {
   "cell_type": "markdown",
   "metadata": {},
   "source": [
    "f. Describe how you will calibrate/tune/learn the parameters, including the data time frame:\n",
    "1. Cross validation: In 5-Fold CV, we further split our training set into 5 number of subsets, called folds. We then iteratively fit the model 5 times, each time training the data on 4 of the folds and evaluating on the Kth fold (called the validation data).\n",
    "2. Criterion: choose Gini impurity.\n",
    "3. n_estimators: choose as high value as our processor can handle because this makes our predictions stronger and more stable."
   ]
  },
  {
   "cell_type": "markdown",
   "metadata": {},
   "source": [
    "g. Describe how you will test the results, including the data time frame. Include specific metrics:\n",
    "1. From the statistical perspective, using cross validation and training the model 5 times, we calculate the accuracy_score of random forest model everytime using: \n",
    "    sklearn.metrics.accuracy_score(y_true, y_pred, normalize=True, sample_weight=None). \n",
    "2. From the practical perspective, we use our model to trade in real historical market competing with the market average to check whether our model outperforms market average."
   ]
  },
  {
   "cell_type": "markdown",
   "metadata": {},
   "source": [
    "# 2 Shrink the covariance matrix"
   ]
  },
  {
   "cell_type": "markdown",
   "metadata": {},
   "source": [
    "a. Understanding of the shrunk-covariance methodology: \n",
    "    (1) The shrunk-covariance methodolgy tends to pull the most extreme coefficients towards more central values in order to reduce estimation error systematically.\n",
    "    (2) The shrinkage target of Ledoit and Wolf is to minimize the Mean Squred Error bewteen the estimated and the real covariance matrix while OAS yields a smaller MSE than Ledoit and Wolf."
   ]
  },
  {
   "cell_type": "code",
   "execution_count": 1,
   "metadata": {},
   "outputs": [],
   "source": [
    "import numpy as np\n",
    "np.random.seed(0)\n",
    "import pandas as pd\n",
    "import random\n",
    "import sklearn.covariance\n",
    "from sklearn.cluster import AgglomerativeClustering\n",
    "from scipy.cluster.hierarchy import linkage, dendrogram\n",
    "import scipy.cluster.hierarchy as sch\n",
    "\n",
    "X = np.random.normal(size=(1000, 20))\n",
    "# Don't use: starX = X\n",
    "starX = X.copy()\n",
    "starX[:,-1] = starX[:,0] + 0.0001*np.random.normal(size=(1000))\n",
    "starX[:,-2] = starX[:,0] + 0.0001*np.random.normal(size=(1000))"
   ]
  },
  {
   "cell_type": "code",
   "execution_count": 2,
   "metadata": {},
   "outputs": [],
   "source": [
    "cov_X = np.cov(X.transpose())\n",
    "cov_starX = np.cov(starX.transpose())"
   ]
  },
  {
   "cell_type": "code",
   "execution_count": 3,
   "metadata": {},
   "outputs": [
    {
     "name": "stdout",
     "output_type": "stream",
     "text": [
      "OAS of X: 1.01765115252 Ledoit&Wolf of X: 1.02206271058\n",
      "OAS of X*: 48.492414994 Ledoit&Wolf of X*: 49.2770137609\n"
     ]
    }
   ],
   "source": [
    "def conNumOfLw(cov_mat):\n",
    "    lwCov, _ = sklearn.covariance.ledoit_wolf(cov_mat)\n",
    "    lwConNum = np.linalg.cond(lwCov)\n",
    "    return lwConNum\n",
    "\n",
    "def conNumOfOAS(cov_mat):\n",
    "    oasCov, _ = sklearn.covariance.oas(cov_mat)\n",
    "    oasConNum = np.linalg.cond(oasCov)\n",
    "    return oasConNum\n",
    "\n",
    "print('OAS of X:', conNumOfOAS(X), 'Ledoit&Wolf of X:', conNumOfLw(X))\n",
    "print('OAS of X*:', conNumOfOAS(starX), 'Ledoit&Wolf of X*:', conNumOfLw(starX))"
   ]
  },
  {
   "cell_type": "markdown",
   "metadata": {},
   "source": [
    "e. Difference between the two methods: \n",
    "    The condition number of OAS method is smaller than that of Ledoit and Wolf's method of X which demonstrates that the OAS method's convergence is better under the assumption that the data are Gaussian. "
   ]
  },
  {
   "cell_type": "markdown",
   "metadata": {},
   "source": [
    "# 3 Hierarchical Risk Parity"
   ]
  },
  {
   "cell_type": "code",
   "execution_count": 4,
   "metadata": {},
   "outputs": [
    {
     "data": {
      "text/html": [
       "<div>\n",
       "<style scoped>\n",
       "    .dataframe tbody tr th:only-of-type {\n",
       "        vertical-align: middle;\n",
       "    }\n",
       "\n",
       "    .dataframe tbody tr th {\n",
       "        vertical-align: top;\n",
       "    }\n",
       "\n",
       "    .dataframe thead th {\n",
       "        text-align: right;\n",
       "    }\n",
       "</style>\n",
       "<table border=\"1\" class=\"dataframe\">\n",
       "  <thead>\n",
       "    <tr style=\"text-align: right;\">\n",
       "      <th></th>\n",
       "      <th>AGG</th>\n",
       "      <th>TLT</th>\n",
       "      <th>IEF</th>\n",
       "      <th>LQD</th>\n",
       "      <th>XLB</th>\n",
       "      <th>XLE</th>\n",
       "      <th>XLF</th>\n",
       "      <th>XLI</th>\n",
       "      <th>XLK</th>\n",
       "      <th>XLP</th>\n",
       "      <th>XLU</th>\n",
       "      <th>XLV</th>\n",
       "      <th>XLY</th>\n",
       "      <th>EFA</th>\n",
       "      <th>EWJ</th>\n",
       "      <th>EWW</th>\n",
       "      <th>EWY</th>\n",
       "      <th>EZU</th>\n",
       "    </tr>\n",
       "    <tr>\n",
       "      <th>Date</th>\n",
       "      <th></th>\n",
       "      <th></th>\n",
       "      <th></th>\n",
       "      <th></th>\n",
       "      <th></th>\n",
       "      <th></th>\n",
       "      <th></th>\n",
       "      <th></th>\n",
       "      <th></th>\n",
       "      <th></th>\n",
       "      <th></th>\n",
       "      <th></th>\n",
       "      <th></th>\n",
       "      <th></th>\n",
       "      <th></th>\n",
       "      <th></th>\n",
       "      <th></th>\n",
       "      <th></th>\n",
       "    </tr>\n",
       "  </thead>\n",
       "  <tbody>\n",
       "    <tr>\n",
       "      <th>2017-09-19</th>\n",
       "      <td>-0.000546</td>\n",
       "      <td>-0.002458</td>\n",
       "      <td>-0.001119</td>\n",
       "      <td>0.000579</td>\n",
       "      <td>0.005144</td>\n",
       "      <td>0.004083</td>\n",
       "      <td>0.007582</td>\n",
       "      <td>0.001003</td>\n",
       "      <td>0.004422</td>\n",
       "      <td>-0.003074</td>\n",
       "      <td>-0.002030</td>\n",
       "      <td>-0.007872</td>\n",
       "      <td>-0.000896</td>\n",
       "      <td>0.004696</td>\n",
       "      <td>0.005792</td>\n",
       "      <td>-0.004650</td>\n",
       "      <td>0.003293</td>\n",
       "      <td>0.004875</td>\n",
       "    </tr>\n",
       "    <tr>\n",
       "      <th>2017-09-20</th>\n",
       "      <td>-0.000820</td>\n",
       "      <td>0.000715</td>\n",
       "      <td>-0.001960</td>\n",
       "      <td>-0.001240</td>\n",
       "      <td>0.003529</td>\n",
       "      <td>0.006778</td>\n",
       "      <td>0.005941</td>\n",
       "      <td>0.007301</td>\n",
       "      <td>-0.004064</td>\n",
       "      <td>-0.009614</td>\n",
       "      <td>-0.007396</td>\n",
       "      <td>0.000977</td>\n",
       "      <td>0.003362</td>\n",
       "      <td>-0.002191</td>\n",
       "      <td>0.000360</td>\n",
       "      <td>0.003774</td>\n",
       "      <td>-0.005280</td>\n",
       "      <td>-0.004851</td>\n",
       "    </tr>\n",
       "    <tr>\n",
       "      <th>2017-09-21</th>\n",
       "      <td>-0.000182</td>\n",
       "      <td>-0.000556</td>\n",
       "      <td>-0.001309</td>\n",
       "      <td>0.000000</td>\n",
       "      <td>-0.002110</td>\n",
       "      <td>0.000299</td>\n",
       "      <td>0.002362</td>\n",
       "      <td>0.002985</td>\n",
       "      <td>-0.005441</td>\n",
       "      <td>-0.009524</td>\n",
       "      <td>-0.000186</td>\n",
       "      <td>-0.005122</td>\n",
       "      <td>-0.001675</td>\n",
       "      <td>-0.002049</td>\n",
       "      <td>-0.003958</td>\n",
       "      <td>-0.002327</td>\n",
       "      <td>-0.000143</td>\n",
       "      <td>0.000696</td>\n",
       "    </tr>\n",
       "    <tr>\n",
       "      <th>2017-09-22</th>\n",
       "      <td>0.000729</td>\n",
       "      <td>0.002861</td>\n",
       "      <td>0.001779</td>\n",
       "      <td>0.001324</td>\n",
       "      <td>-0.003524</td>\n",
       "      <td>0.005085</td>\n",
       "      <td>-0.001178</td>\n",
       "      <td>0.002551</td>\n",
       "      <td>0.000513</td>\n",
       "      <td>-0.002959</td>\n",
       "      <td>-0.008198</td>\n",
       "      <td>0.000000</td>\n",
       "      <td>0.001678</td>\n",
       "      <td>0.003080</td>\n",
       "      <td>0.001084</td>\n",
       "      <td>0.004665</td>\n",
       "      <td>-0.005166</td>\n",
       "      <td>0.002088</td>\n",
       "    </tr>\n",
       "    <tr>\n",
       "      <th>2017-09-25</th>\n",
       "      <td>0.002369</td>\n",
       "      <td>0.006260</td>\n",
       "      <td>0.002991</td>\n",
       "      <td>0.003720</td>\n",
       "      <td>0.001768</td>\n",
       "      <td>0.014435</td>\n",
       "      <td>-0.001180</td>\n",
       "      <td>0.000000</td>\n",
       "      <td>-0.011791</td>\n",
       "      <td>0.007233</td>\n",
       "      <td>0.009205</td>\n",
       "      <td>-0.002942</td>\n",
       "      <td>-0.002122</td>\n",
       "      <td>-0.005703</td>\n",
       "      <td>0.002165</td>\n",
       "      <td>-0.007144</td>\n",
       "      <td>-0.006491</td>\n",
       "      <td>-0.010880</td>\n",
       "    </tr>\n",
       "  </tbody>\n",
       "</table>\n",
       "</div>"
      ],
      "text/plain": [
       "                 AGG       TLT       IEF       LQD       XLB       XLE  \\\n",
       "Date                                                                     \n",
       "2017-09-19 -0.000546 -0.002458 -0.001119  0.000579  0.005144  0.004083   \n",
       "2017-09-20 -0.000820  0.000715 -0.001960 -0.001240  0.003529  0.006778   \n",
       "2017-09-21 -0.000182 -0.000556 -0.001309  0.000000 -0.002110  0.000299   \n",
       "2017-09-22  0.000729  0.002861  0.001779  0.001324 -0.003524  0.005085   \n",
       "2017-09-25  0.002369  0.006260  0.002991  0.003720  0.001768  0.014435   \n",
       "\n",
       "                 XLF       XLI       XLK       XLP       XLU       XLV  \\\n",
       "Date                                                                     \n",
       "2017-09-19  0.007582  0.001003  0.004422 -0.003074 -0.002030 -0.007872   \n",
       "2017-09-20  0.005941  0.007301 -0.004064 -0.009614 -0.007396  0.000977   \n",
       "2017-09-21  0.002362  0.002985 -0.005441 -0.009524 -0.000186 -0.005122   \n",
       "2017-09-22 -0.001178  0.002551  0.000513 -0.002959 -0.008198  0.000000   \n",
       "2017-09-25 -0.001180  0.000000 -0.011791  0.007233  0.009205 -0.002942   \n",
       "\n",
       "                 XLY       EFA       EWJ       EWW       EWY       EZU  \n",
       "Date                                                                    \n",
       "2017-09-19 -0.000896  0.004696  0.005792 -0.004650  0.003293  0.004875  \n",
       "2017-09-20  0.003362 -0.002191  0.000360  0.003774 -0.005280 -0.004851  \n",
       "2017-09-21 -0.001675 -0.002049 -0.003958 -0.002327 -0.000143  0.000696  \n",
       "2017-09-22  0.001678  0.003080  0.001084  0.004665 -0.005166  0.002088  \n",
       "2017-09-25 -0.002122 -0.005703  0.002165 -0.007144 -0.006491 -0.010880  "
      ]
     },
     "execution_count": 4,
     "metadata": {},
     "output_type": "execute_result"
    }
   ],
   "source": [
    "# a. Calculate Daily Returns\n",
    "df = pd.read_csv('Data.csv', parse_dates=True, index_col ='Date')\n",
    "# df_return = np.log(df / df.shift())\n",
    "df_return = df.pct_change()[1:]\n",
    "df_return.head()"
   ]
  },
  {
   "cell_type": "code",
   "execution_count": 5,
   "metadata": {},
   "outputs": [],
   "source": [
    "# b. Calculate covariance matrix\n",
    "cov_mat = df_return.cov().values   # df.cov() shows row&col names"
   ]
  },
  {
   "cell_type": "code",
   "execution_count": 6,
   "metadata": {},
   "outputs": [
    {
     "data": {
      "text/plain": [
       "6084.0113625921376"
      ]
     },
     "execution_count": 6,
     "metadata": {},
     "output_type": "execute_result"
    }
   ],
   "source": [
    "# c. Calculate condition number\n",
    "np.linalg.cond(cov_mat)"
   ]
  },
  {
   "cell_type": "code",
   "execution_count": 7,
   "metadata": {},
   "outputs": [
    {
     "data": {
      "text/plain": [
       "1089.1741249819468"
      ]
     },
     "execution_count": 7,
     "metadata": {},
     "output_type": "execute_result"
    }
   ],
   "source": [
    "# d. Use OAS, calculate condition number\n",
    "OAScov_mat, _ = sklearn.covariance.oas(df_return)\n",
    "np.linalg.cond(OAScov_mat)"
   ]
  },
  {
   "cell_type": "code",
   "execution_count": 8,
   "metadata": {},
   "outputs": [
    {
     "name": "stdout",
     "output_type": "stream",
     "text": [
      "(18, 18)\n",
      "[[ 13.          17.           0.25294926   2.        ]\n",
      " [  1.           2.           0.28627021   2.        ]\n",
      " [  8.          12.           0.36669571   2.        ]\n",
      " [  0.          19.           0.37191749   3.        ]\n",
      " [  4.           7.           0.39707263   2.        ]\n",
      " [ 14.          18.           0.502477     3.        ]\n",
      " [  6.          22.           0.53789058   3.        ]\n",
      " [ 11.          20.           0.54204866   3.        ]\n",
      " [ 24.          25.           0.61175894   6.        ]\n",
      " [ 16.          23.           0.62432638   4.        ]\n",
      " [  5.          26.           0.68857554   7.        ]\n",
      " [  3.          21.           0.70997163   4.        ]\n",
      " [ 27.          28.           0.72540265  11.        ]\n",
      " [  9.          15.           0.86751858   2.        ]\n",
      " [ 30.          31.           0.96645772  13.        ]\n",
      " [ 10.          29.           1.26213991   5.        ]\n",
      " [ 32.          33.           2.21735846  18.        ]]\n"
     ]
    },
    {
     "name": "stderr",
     "output_type": "stream",
     "text": [
      "/anaconda3/lib/python3.6/site-packages/ipykernel_launcher.py:9: ClusterWarning: scipy.cluster: The symmetric non-negative hollow observation matrix looks suspiciously like an uncondensed distance matrix\n",
      "  if __name__ == '__main__':\n"
     ]
    }
   ],
   "source": [
    "# e. Agglomerative clustering\n",
    "\n",
    "# compute a correlation matrix of daily returns\n",
    "corr_mat = df_return.corr().values\n",
    "# compute a distance matrix\n",
    "dist = (0.5*(1-corr_mat))**0.5\n",
    "print(dist.shape)\n",
    "# cls = linkage(dist, 'single')\n",
    "cls = linkage(dist, 'complete')\n",
    "print(cls)"
   ]
  },
  {
   "cell_type": "code",
   "execution_count": 9,
   "metadata": {},
   "outputs": [
    {
     "data": {
      "image/png": "[encoded data removed]",
      "text/plain": [
       "<Figure size 1800x360 with 1 Axes>"
      ]
     },
     "metadata": {},
     "output_type": "display_data"
    }
   ],
   "source": [
    "# f. Plot Dendrogram – describe the different clusters\n",
    "\n",
    "%matplotlib inline\n",
    "import matplotlib.pyplot as plt\n",
    "import seaborn as sns; sns.set()  # for plot styling\n",
    "fig = plt.figure(figsize=(25, 5))\n",
    "dn = dendrogram(cls, labels=df_return.columns)\n",
    "plt.show()"
   ]
  },
  {
   "cell_type": "markdown",
   "metadata": {},
   "source": [
    "f. describe the different clusters:"
   ]
  },
  {
   "cell_type": "code",
   "execution_count": 10,
   "metadata": {},
   "outputs": [],
   "source": [
    "# g. Get HRP weights\n",
    "\n",
    "def getIVP(cov):\n",
    "    # Compute the inverse-variance portfolio\n",
    "    ivp = 1. / np.diag(cov)\n",
    "    ivp /= ivp.sum()\n",
    "    return ivp\n",
    "\n",
    "def getQuasiDiag(link):\n",
    "    # Sort clustered items by distance\n",
    "    link = link.astype(int)\n",
    "    sortIx = pd.Series([link[-1, 0], link[-1, 1]])\n",
    "    numItems = link[-1, 3]  # number of original items\n",
    "    while sortIx.max() >= numItems:\n",
    "        sortIx.index = range(0, sortIx.shape[0] * 2, 2)  # make space\n",
    "        df0 = sortIx[sortIx >= numItems]  # find clusters\n",
    "        i = df0.index\n",
    "        j = df0.values - numItems\n",
    "        sortIx[i] = link[j, 0]  # item 1\n",
    "        df0 = pd.Series(link[j, 1], index=i + 1)\n",
    "        sortIx = sortIx.append(df0)  # item 2\n",
    "        sortIx = sortIx.sort_index()  # re-sort\n",
    "        sortIx.index = range(sortIx.shape[0])  # re-index\n",
    "    return sortIx.tolist()\n",
    "\n",
    "def getRecBipart(cov, sortIx):\n",
    "    # Compute HRP alloc\n",
    "    w = pd.Series(1, index=sortIx)\n",
    "    cItems = [sortIx]  # initialize all items in one cluster\n",
    "    while len(cItems) > 0:\n",
    "        cItems = [i[j:k] for i in cItems for j, k in ((0, len(i) // 2), (len(i) // 2, len(i))) if len(i) > 1]  # bi-section\n",
    "        for i in range(0, len(cItems), 2):  # parse in pairs\n",
    "            cItems0 = cItems[i]  # cluster 1\n",
    "            cItems1 = cItems[i + 1]  # cluster 2\n",
    "            cVar0 = getClusterVar(cov, cItems0)\n",
    "            cVar1 = getClusterVar(cov, cItems1)\n",
    "            alpha = 1 - cVar0 / (cVar0 + cVar1)\n",
    "            w[cItems0] *= alpha  # weight 1\n",
    "            w[cItems1] *= 1 - alpha  # weight 2\n",
    "    return w\n",
    "\n",
    "def getClusterVar(cov,cItems):\n",
    "    # Compute variance per cluster\n",
    "    cov_=cov.loc[cItems,cItems] # matrix slice\n",
    "    w_=getIVP(cov_).reshape(-1,1)\n",
    "    cVar=np.dot(np.dot(w_.T,cov_),w_)[0,0]\n",
    "    return cVar"
   ]
  },
  {
   "cell_type": "code",
   "execution_count": 11,
   "metadata": {},
   "outputs": [
    {
     "name": "stderr",
     "output_type": "stream",
     "text": [
      "/anaconda3/lib/python3.6/site-packages/ipykernel_launcher.py:4: ClusterWarning: scipy.cluster: The symmetric non-negative hollow observation matrix looks suspiciously like an uncondensed distance matrix\n",
      "  after removing the cwd from sys.path.\n"
     ]
    }
   ],
   "source": [
    "def getHRP(cov, corr):\n",
    "    # Construct a hierarchical portfolio\n",
    "    dist = (0.5*(1-corr_mat))**0.5\n",
    "    link = linkage(dist, 'single')\n",
    "    #dn = sch.dendrogram(link, labels=cov.index.values, label_rotation=90)\n",
    "    #plt.show()\n",
    "    sortIx = getQuasiDiag(link)\n",
    "    sortIx = corr.index[sortIx].tolist()\n",
    "    hrp = getRecBipart(cov, sortIx)\n",
    "    return hrp.sort_index()\n",
    "\n",
    "w_hrp = getHRP(df_return.cov(), df_return.corr())"
   ]
  },
  {
   "cell_type": "code",
   "execution_count": 12,
   "metadata": {},
   "outputs": [
    {
     "data": {
      "text/plain": [
       "AGG    0.431040\n",
       "EFA    0.010560\n",
       "EWJ    0.008848\n",
       "EWW    0.013448\n",
       "EWY    0.007237\n",
       "EZU    0.009033\n",
       "IEF    0.190538\n",
       "LQD    0.186131\n",
       "TLT    0.037026\n",
       "XLB    0.003220\n",
       "XLE    0.007967\n",
       "XLF    0.006228\n",
       "XLI    0.003272\n",
       "XLK    0.004477\n",
       "XLP    0.028969\n",
       "XLU    0.037127\n",
       "XLV    0.008508\n",
       "XLY    0.006370\n",
       "dtype: float64"
      ]
     },
     "execution_count": 12,
     "metadata": {},
     "output_type": "execute_result"
    }
   ],
   "source": [
    "w_hrp"
   ]
  },
  {
   "cell_type": "code",
   "execution_count": null,
   "metadata": {},
   "outputs": [],
   "source": []
  }
 ],
 "metadata": {
  "kernelspec": {
   "display_name": "Python 3",
   "language": "python",
   "name": "python3"
  },
  "language_info": {
   "codemirror_mode": {
    "name": "ipython",
    "version": 3
   },
   "file_extension": ".py",
   "mimetype": "text/x-python",
   "name": "python",
   "nbconvert_exporter": "python",
   "pygments_lexer": "ipython3",
   "version": "3.6.4"
  }
 },
 "nbformat": 4,
 "nbformat_minor": 2
}
